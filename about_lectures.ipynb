{
 "cells": [
  {
   "cell_type": "markdown",
   "metadata": {},
   "source": [
    "# About Lectures\n",
    "\n",
    "TBD"
   ]
  }
 ],
 "metadata": {
  "date": 1583893380.1243787,
  "filename": "about_lectures.rst",
  "kernelspec": {
   "display_name": "Python",
   "language": "python3",
   "name": "python3"
  },
  "title": "About Lectures"
 },
 "nbformat": 4,
 "nbformat_minor": 2
}
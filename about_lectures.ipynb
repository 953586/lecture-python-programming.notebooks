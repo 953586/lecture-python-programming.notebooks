{
 "cells": [
  {
   "cell_type": "markdown",
   "metadata": {},
   "source": [
    "# About Lectures\n",
    "\n",
    "TBD"
   ]
  }
 ],
 "metadata": {
  "date": 1584412215.497753,
  "filename": "about_lectures.rst",
  "kernelspec": {
   "display_name": "Python",
   "language": "python3",
   "name": "python3"
  },
  "title": "About Lectures"
 },
 "nbformat": 4,
 "nbformat_minor": 2
}